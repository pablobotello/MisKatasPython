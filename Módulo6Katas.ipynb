{
  "cells": [
    {
      "cell_type": "markdown",
      "metadata": {},
      "source": [
        "# Ejercicio1: Crear y usar listas de Python\n"
      ]
    },
    {
      "cell_type": "markdown",
      "metadata": {},
      "source": [
        "### Ejercicio: Usar listas para almacenar nombres de planetas\n",
        "Las listas permiten almacenar varios valores en una sola variable. Comenzarás un proyecto sobre información planetaria creando una lista de planetas.\n",
        "\n",
        "> **TIP**\n",
        "> Dedica unos minutos para tratar de encontrar una solución. Luego desplázate hacia abajo hasta la parte inferior para ver si has logrado compilar el programa de acuerdo con las especificaciones"
      ]
    },
    {
      "cell_type": "markdown",
      "metadata": {},
      "source": [
        "En primer lugar, crea una variable denominada `planets`. Agrega los ocho planetas (sin Plutón) a la lista. A continuación, muestra el número de planetas."
      ]
    },
    {
      "cell_type": "code",
      "execution_count": 13,
      "metadata": {},
      "outputs": [
        {
          "name": "stdout",
          "output_type": "stream",
          "text": [
            "Hay  8 planetas\n"
          ]
        }
      ],
      "source": [
        "planetas = ['Mercurio', 'Venus', 'Tierra', 'Marte', 'Jupiter', 'Saturno', 'Urano', 'Neptuno']\n",
        "\n",
        "print('Hay ', len(planetas), 'planetas')"
      ]
    },
    {
      "cell_type": "markdown",
      "metadata": {},
      "source": [
        "Agrega a Plutón a la lista que creaste. Luego muestra tanto el número de planetas como el último planeta de la lista."
      ]
    },
    {
      "cell_type": "code",
      "execution_count": 14,
      "metadata": {},
      "outputs": [
        {
          "name": "stdout",
          "output_type": "stream",
          "text": [
            "hay 9  planetas, el ultimo es:  Pluton\n"
          ]
        }
      ],
      "source": [
        "planetas.append(\"Pluton\")\n",
        "print('hay', len(planetas), ' planetas, el ultimo es: ', planetas[-1])"
      ]
    },
    {
      "cell_type": "markdown",
      "metadata": {},
      "source": [
        "> Recuerda: Lo importante es intentarlo, puedes auxiliarte de internet, libros, etc. El objetivo de una kata es la comprobación de la comprensión de la lección y su aplicación inmediata a la resolución de problemas. Go for it!"
      ]
    },
    {
      "cell_type": "markdown",
      "metadata": {},
      "source": [
        "## Ejercicio 2: Trabajando con datos de una lista\n",
        "\n",
        "### Usar slices para recuperar partes de una lista"
      ]
    },
    {
      "cell_type": "markdown",
      "metadata": {},
      "source": [
        "Es posible que debas trabajar con diferentes secciones de una lista. En nuestro ejemplo, queremos mostrar planetas más cerca y más lejos del sol de un planeta que el usuario ingresa por teclado.\n",
        "\n",
        "Comienza agregando el código para crear una lista con los planetas."
      ]
    },
    {
      "cell_type": "code",
      "execution_count": 50,
      "metadata": {},
      "outputs": [],
      "source": [
        "planetas = ['Mercurio', 'Venus', 'Tierra', 'Marte', 'Jupiter', 'Saturno', 'Urano', 'Neptuno']\n"
      ]
    },
    {
      "cell_type": "markdown",
      "metadata": {},
      "source": [
        "### Solicita al usuario el nombre de un planeta\n",
        "\n",
        "A continuación, agrega el código para solicitar al usuario un nombre. Debido a que las cadenas distinguen entre mayúsculas y minúsculas en Python, pídale al usuario que use una letra mayúscula para comenzar el nombre del planeta."
      ]
    },
    {
      "cell_type": "code",
      "execution_count": 51,
      "metadata": {},
      "outputs": [],
      "source": [
        "planeta=input(\"Ingresa el nombre de un planeta empezando con letra mayuscula\")"
      ]
    },
    {
      "cell_type": "markdown",
      "metadata": {},
      "source": [
        "### Encuentra el planeta en la lista\n",
        "Para determinar qué planetas están más cerca que el que ingresó el usuario, debes encontrar dónde está el planeta en la lista. Puedes utilizar `index` para realizar esta operación. Agrega el código para encontrar el índice del planeta."
      ]
    },
    {
      "cell_type": "code",
      "execution_count": 52,
      "metadata": {},
      "outputs": [],
      "source": [
        "i_planeta=planetas.index(planeta)"
      ]
    },
    {
      "cell_type": "markdown",
      "metadata": {},
      "source": [
        "### Mostrar planetas más cercanos al sol que el que el usuario ingresó\n",
        "\n",
        "Con el índice determinado, ahora puedes agregar el código para mostrar los planetas más cercanos al sol."
      ]
    },
    {
      "cell_type": "code",
      "execution_count": 53,
      "metadata": {},
      "outputs": [
        {
          "name": "stdout",
          "output_type": "stream",
          "text": [
            "Estos son los planetas mas cercanos al sol antes que tu planeta\n",
            "['Mercurio', 'Venus']\n"
          ]
        }
      ],
      "source": [
        "print(\"Estos son los planetas mas cercanos al sol antes que tu planeta\")\n",
        "print(planetas[0:i_planeta])"
      ]
    },
    {
      "cell_type": "markdown",
      "metadata": {},
      "source": [
        "# Mostrar planetas más alejados del sol que el que el usuario ingresó\n",
        "\n",
        "Puedes usar el mismo índice para mostrar planetas más alejados del sol. Sin embargo, recuerda que el índice inicial se incluye cuando usas un slice. Como resultado, tendrás que agregar 1 al valor. Agrega el código para mostrar los planetas más alejados del sol."
      ]
    },
    {
      "cell_type": "code",
      "execution_count": 54,
      "metadata": {},
      "outputs": [
        {
          "name": "stdout",
          "output_type": "stream",
          "text": [
            "Estos son los planetas mas lejanos al sol despues que tu planeta\n",
            "['Marte', 'Jupiter', 'Saturno', 'Urano', 'Neptuno']\n"
          ]
        }
      ],
      "source": [
        "print(\"Estos son los planetas mas lejanos al sol despues que tu planeta\")\n",
        "print(planetas[i_planeta+1:])"
      ]
    }
  ],
  "metadata": {
    "interpreter": {
      "hash": "b8bdd4e700647ba2b08c59e5df8b7da1dcf50a218bcd4c1bcd9b3dc92e8788e5"
    },
    "kernelspec": {
      "display_name": "Python 3.9.1 64-bit",
      "name": "python3"
    },
    "language_info": {
      "codemirror_mode": {
        "name": "ipython",
        "version": 3
      },
      "file_extension": ".py",
      "mimetype": "text/x-python",
      "name": "python",
      "nbconvert_exporter": "python",
      "pygments_lexer": "ipython3",
      "version": "3.7.9"
    },
    "nteract": {
      "version": "nteract-front-end@1.0.0"
    }
  },
  "nbformat": 4,
  "nbformat_minor": 4
}
